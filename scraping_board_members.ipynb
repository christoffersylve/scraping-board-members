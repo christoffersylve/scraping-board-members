{
 "cells": [
  {
   "cell_type": "markdown",
   "id": "694b9cc9",
   "metadata": {},
   "source": [
    "# HIRE ME please <33333333\n",
    "\n",
    "Nvm, here is the code. Enjoy!"
   ]
  },
  {
   "cell_type": "markdown",
   "id": "6e5821e7",
   "metadata": {},
   "source": [
    "## Imports..."
   ]
  },
  {
   "cell_type": "code",
   "execution_count": 1,
   "id": "4fa8013f",
   "metadata": {},
   "outputs": [],
   "source": [
    "import requests\n",
    "from pathlib import Path\n",
    "import os\n",
    "from tqdm.notebook import tqdm\n",
    "import pandas as pd"
   ]
  },
  {
   "cell_type": "markdown",
   "id": "7c40c310",
   "metadata": {},
   "source": [
    "## Getting all county ID:s"
   ]
  },
  {
   "cell_type": "code",
   "execution_count": 2,
   "id": "c740fa82",
   "metadata": {},
   "outputs": [
    {
     "data": {
      "text/plain": [
       "[{'name': 'norrbotten', 'searchLink': '25'},\n",
       " {'name': 'orebro', 'searchLink': '18'},\n",
       " {'name': 'ostergotland', 'searchLink': '05'},\n",
       " {'name': 'skane', 'searchLink': '12'},\n",
       " {'name': 'stockholm', 'searchLink': '01'},\n",
       " {'name': 'vastra-gotaland', 'searchLink': '14'}]"
      ]
     },
     "execution_count": 2,
     "metadata": {},
     "output_type": "execute_result"
    }
   ],
   "source": [
    "url = \"https://stiftelser.lansstyrelsen.se/Search/GetCarouselItems\"\n",
    "response = requests.get(url)\n",
    "\n",
    "all_county_ids = []\n",
    "\n",
    "if response.ok:\n",
    "    response_dict = response.json()\n",
    "else:\n",
    "    print(\"Error:\", response.status_code, response.text)\n",
    "\n",
    "for county in response_dict['items']:\n",
    "    path = Path(county['imagesUrl'])\n",
    "    county_name = os.path.splitext(path.name)[0]\n",
    "  \n",
    "    all_county_ids.append({\n",
    "        \"name\": county_name,\n",
    "        \"searchLink\":county['searchLink']}\n",
    "        )\n",
    "    \n",
    "all_county_ids"
   ]
  },
  {
   "cell_type": "markdown",
   "id": "4619e836",
   "metadata": {},
   "source": [
    "## Getting all foundations for each county, and then getting all members from each foundation... "
   ]
  },
  {
   "cell_type": "code",
   "execution_count": null,
   "id": "deedcc62",
   "metadata": {},
   "outputs": [
    {
     "name": "stdout",
     "output_type": "stream",
     "text": [
      "Scraping norrbotten\n"
     ]
    },
    {
     "data": {
      "application/vnd.jupyter.widget-view+json": {
       "model_id": "651840930063486abafc753473e62527",
       "version_major": 2,
       "version_minor": 0
      },
      "text/plain": [
       "Fetching data:   0%|          | 0/1029 [00:00<?, ?it/s]"
      ]
     },
     "metadata": {},
     "output_type": "display_data"
    }
   ],
   "source": [
    "# Creating a DataFrame with following columns\n",
    "df = pd.DataFrame(columns=[\"county\", \"foundation_name\", \"org_nbr\", \"person_name\", \"role\"])\n",
    "\n",
    "# Search word used for filtering on role\n",
    "search_word = \"styrelse\"\n",
    "\n",
    "# Looping over all counties... \n",
    "for county in all_county_ids:\n",
    "   \n",
    "  url = \"https://stiftelser.lansstyrelsen.se/search/avdsearch\" \n",
    "  data = {\"regmyndighet\": county['searchLink']}\n",
    "\n",
    "  response = requests.post(url, json=data)\n",
    "\n",
    "  if response.ok:\n",
    "    response_dict = response.json()\n",
    "    print(\"Scraping\",county['name'])\n",
    "  else:\n",
    "      print(\"Error:\", response.status_code, response.text)\n",
    "\n",
    "  # all foundation in county...\n",
    "  all_foundations = response_dict['stiftelser']\n",
    "\n",
    "  # Looping over all foundations...\n",
    "  for foundation in tqdm(all_foundations, desc=\"Fetching data\"):\n",
    "\n",
    "    # Get board members for each foundation\n",
    "    url = \"https://stiftelser.lansstyrelsen.se/search/fetchstift\"\n",
    "    data = {\"fetchedByStiftelseID\": foundation['id']}\n",
    "\n",
    "    response = requests.post(url, json=data)\n",
    "\n",
    "    if response.ok:\n",
    "      response_dict = response.json()\n",
    "    else:\n",
    "        print(\"Error:\", response.status_code, response.text)\n",
    "\n",
    "    board_members = response_dict['roller']\n",
    "\n",
    "    filtered_board_members = [p for p in board_members if search_word in p['typ'].lower()]\n",
    "\n",
    "    # Looping over all members and appending a new row for each board member...\n",
    "    for person in filtered_board_members:\n",
    "      df.loc[len(df)] = [\n",
    "        county['name'],\n",
    "        foundation['namn'],\n",
    "        foundation['orgnrNoMinus'][:-4] + \"-\" + foundation['orgnrNoMinus'][-4:],\n",
    "        person['namn'],\n",
    "        person['typ']\n",
    "      ]"
   ]
  },
  {
   "cell_type": "markdown",
   "id": "cabf2b5e",
   "metadata": {},
   "source": [
    "## Saving to csv..."
   ]
  },
  {
   "cell_type": "code",
   "execution_count": null,
   "id": "ccda8863",
   "metadata": {},
   "outputs": [],
   "source": [
    "# 3. Export to CSV\n",
    "df.to_csv(\"board_members.csv\", index=False)"
   ]
  }
 ],
 "metadata": {
  "kernelspec": {
   "display_name": "base",
   "language": "python",
   "name": "python3"
  },
  "language_info": {
   "codemirror_mode": {
    "name": "ipython",
    "version": 3
   },
   "file_extension": ".py",
   "mimetype": "text/x-python",
   "name": "python",
   "nbconvert_exporter": "python",
   "pygments_lexer": "ipython3",
   "version": "3.12.4"
  }
 },
 "nbformat": 4,
 "nbformat_minor": 5
}
